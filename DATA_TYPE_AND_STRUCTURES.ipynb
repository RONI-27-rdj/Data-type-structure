{
  "nbformat": 4,
  "nbformat_minor": 0,
  "metadata": {
    "colab": {
      "provenance": []
    },
    "kernelspec": {
      "name": "python3",
      "display_name": "Python 3"
    },
    "language_info": {
      "name": "python"
    }
  },
  "cells": [
    {
      "cell_type": "markdown",
      "source": [
        "# DATA TYPES & STRUCTURES{THEORICAL}\n"
      ],
      "metadata": {
        "id": "biqPLDp8YkRg"
      }
    },
    {
      "cell_type": "markdown",
      "source": [
        "#QUESTION 1 What are data structures, and why are they important?"
      ],
      "metadata": {
        "id": "HMfBCCS9ZA14"
      }
    },
    {
      "cell_type": "markdown",
      "source": [
        "-> Data structures provide a way to manage large amounts of data, making it possible to perform operations such as sorting, searching, inserting, deleting, and modifying data.It is important because they are essential for efficient data management, algorithm performance, problem-solving, scalability, and code organization, making them a fundamental concept in computer science.\n"
      ],
      "metadata": {
        "id": "Uqj7a_1lZLV4"
      }
    },
    {
      "cell_type": "markdown",
      "source": [
        "# QUESTION 2  Explain the difference between mutable and immutable data types with examples?"
      ],
      "metadata": {
        "id": "ccFFQkZaaCSI"
      }
    },
    {
      "cell_type": "markdown",
      "source": [
        "-> **Mutable data** types are those that can be modified after creation. Their contents can be changed without creating a new object.\n",
        "\n",
        "Examples:\n",
        "\n",
        "1. Lists: You can add, remove, or modify elements in a list.\n",
        "\n"
      ],
      "metadata": {
        "id": "MN9gXj2laOSv"
      }
    },
    {
      "cell_type": "code",
      "source": [
        "my_list = [1, 2, 3]\n",
        "my_list[0] = 10  # modify the first element\n",
        "my_list.append(4)  # add a new element\n",
        "print(my_list)  # [10, 2, 3, 4]\n"
      ],
      "metadata": {
        "id": "SHTsURqrst_6",
        "colab": {
          "base_uri": "https://localhost:8080/"
        },
        "outputId": "04ea47c8-a3a5-46f8-f0bf-dbb7c9f187f0"
      },
      "execution_count": 22,
      "outputs": [
        {
          "output_type": "stream",
          "name": "stdout",
          "text": [
            "[10, 2, 3, 4]\n"
          ]
        }
      ]
    },
    {
      "cell_type": "markdown",
      "source": [
        "2. Dictionaries: You can add, remove, or modify key-value pairs in a dictionary.\n"
      ],
      "metadata": {
        "id": "56WFKX0Osz0K"
      }
    },
    {
      "cell_type": "code",
      "source": [
        "my_dict = {\"name\": \"Ronak\", \"age\": 23}\n",
        "my_dict[\"age\"] = 24  # modify the value of \"age\"\n",
        "my_dict[\"city\"] = \"Bhubaneswar\"  # add a new key-value pair\n",
        "print(my_dict)  # {'name': 'Ronak', 'age': 24 , 'city': 'Bhubaneswar'}\n"
      ],
      "metadata": {
        "id": "G_4svu6is75x",
        "colab": {
          "base_uri": "https://localhost:8080/"
        },
        "outputId": "d6fc5dc4-1d29-492b-ebb7-bcd8447f2e11"
      },
      "execution_count": 21,
      "outputs": [
        {
          "output_type": "stream",
          "name": "stdout",
          "text": [
            "{'name': 'Ronak', 'age': 24, 'city': 'Bhubaneswar'}\n"
          ]
        }
      ]
    },
    {
      "cell_type": "markdown",
      "source": [
        "**Immutable Data Types:**\n",
        "\n",
        "Immutable data types are those that cannot be modified after creation. Any attempt to modify them will result in a new object being created.\n",
        "\n",
        "Examples:\n",
        "\n",
        "1. Tuples: You cannot modify the elements of a tuple.\n"
      ],
      "metadata": {
        "id": "qHSlfAUDttlC"
      }
    },
    {
      "cell_type": "code",
      "source": [
        "my_tuple = (1, 2, 3)\n",
        "# my_tuple[0] = 10  # this will raise an error\n"
      ],
      "metadata": {
        "id": "83zJJe1Vtv7h"
      },
      "execution_count": 20,
      "outputs": []
    },
    {
      "cell_type": "markdown",
      "source": [
        "2. Strings: You cannot modify the characters of a string.\n"
      ],
      "metadata": {
        "id": "Z6BD6p0dt0pw"
      }
    },
    {
      "cell_type": "code",
      "source": [
        "my_string = \"hello\"\n",
        "# my_string[0] = \"H\"  # this will raise an error\n"
      ],
      "metadata": {
        "id": "pExIBFDot5YD"
      },
      "execution_count": 19,
      "outputs": []
    },
    {
      "cell_type": "markdown",
      "source": [
        "3. Integers: You cannot modify the value of an integer.\n"
      ],
      "metadata": {
        "id": "NcnK_2Q1t9RB"
      }
    },
    {
      "cell_type": "code",
      "source": [
        "my_int = 5\n",
        "# my_int = 10 is allowed, but it creates a new object\n"
      ],
      "metadata": {
        "id": "Tkiuvkt5uAGh"
      },
      "execution_count": null,
      "outputs": []
    },
    {
      "cell_type": "markdown",
      "source": [
        "**Key differences:**\n",
        "\n",
        "- Mutable data types can be changed in-place, while immutable data types require creating a new object.\n",
        "- Mutable data types are generally more flexible, but can be more prone to unintended side effects.\n",
        "- Immutable data types are more predictable and thread-safe, but may require more memory allocations.\n",
        "\n",
        "Understanding the difference between mutable and immutable data types is essential for writing efficient and effective code."
      ],
      "metadata": {
        "id": "2Nnt7fCRuD9J"
      }
    },
    {
      "cell_type": "markdown",
      "source": [
        "#QUESTION 3 What are the main differences between lists and tuples in Python?"
      ],
      "metadata": {
        "id": "s5Up4yvgb_hP"
      }
    },
    {
      "cell_type": "markdown",
      "source": [
        "-> **Lists and Tuples** are both data structures in Python that can store multiple values. However, there are key differences between them:\n",
        "\n",
        "1. Immutability:\n",
        "* Tuples: Immutable, meaning their contents cannot be modified after creation.\n",
        "* Lists: Mutable, meaning their contents can be modified after creation.\n",
        "\n",
        "2. Syntax:\n",
        "* Tuples: Defined using parentheses (), e.g., (1, 2, 3).\n",
        "* Lists: Defined using square brackets [], e.g., [1, 2, 3].\n",
        "\n",
        "3. Use Cases:\n",
        "* Tuples: Suitable for data that shouldn't change, such as constants or data that needs to be hashed (e.g., dictionary keys).\n",
        "* Lists: Suitable for data that needs to be modified, such as dynamic collections of data.\n",
        "\n",
        "4. Performance:\n",
        "* Tuples: Generally faster and more memory-efficient than lists because of their immutability.\n",
        "* Lists: Slower and more memory-intensive than tuples because of their dynamic nature.\n",
        "\n",
        "5. Methods:\n",
        "* Tuples: Have fewer methods than lists, mainly index() and count().\n",
        "* Lists: Have many methods, such as append(), insert(), remove(), sort(), and more.\n",
        "     In short we can say that **Tuples** are immutable, faster, and more suitable for constant data, while **Lists** are mutable, more flexible, and suitable for dynamic data.\n"
      ],
      "metadata": {
        "id": "94wqvK5MdIJ9"
      }
    },
    {
      "cell_type": "markdown",
      "source": [
        "#QUESTION 4  Describe how dictionaries store data?"
      ],
      "metadata": {
        "id": "eU1EAzSddg-d"
      }
    },
    {
      "cell_type": "markdown",
      "source": [
        "-> **Dictionaries**, also known as hash tables or associative arrays, are data structures that store data in key-value pairs.They allow for efficient lookup, insertion, and deletion of data.\n",
        "\n",
        "**How Dictionaries Store Data:**\n",
        "\n",
        "1. **Key-Value Pairs**: Dictionaries store data as key-value pairs, where each key is unique and maps to a specific value.\n",
        "2. **Hash Function**: When a key is added to a dictionary, a hash function is used to generate a hash code for the key. This hash code determines the location where the key-value pair is stored.\n",
        "3. **Indexing**: The hash code is used to index into an array of slots, where each slot contains a key-value pair.\n",
        "4. **Collision Resolution**: When two keys hash to the same index (known as a collision), dictionaries use collision resolution techniques, such as chaining or open addressing, to store both key-value pairs.\n",
        "\n",
        "**Benefits:**\n",
        "\n",
        "1. **Fast Lookups**: Dictionaries provide fast lookups, with an average time complexity of O(1), making them suitable for large datasets.\n",
        "2. **Efficient Insertion and Deletion**: Dictionaries allow for efficient insertion and deletion of key-value pairs.\n",
        "\n",
        "\n",
        "\n",
        "\n",
        "\n",
        "\n",
        "\n",
        "\n"
      ],
      "metadata": {
        "id": "cV5Oqlggdsru"
      }
    },
    {
      "cell_type": "code",
      "source": [
        "my_dict = {\"name\": \"Ronak\", \"age\": 23}\n"
      ],
      "metadata": {
        "id": "DRJlNgVkrp-9"
      },
      "execution_count": 18,
      "outputs": []
    },
    {
      "cell_type": "markdown",
      "source": [
        "In this example, \"name\" and \"age\" are keys, and \"Ronak\" and \"23\" are their corresponding values. The dictionary uses a hash function to store these key-value pairs, allowing for fast lookups and efficient insertion and deletion.\n",
        "\n",
        "Internal Representation:\n",
        "\n",
        "The internal representation of a dictionary can vary depending on the implementation. However, most dictionaries use a combination of arrays and linked lists to store key-value pairs.\n",
        "\n",
        "Overall, dictionaries provide a powerful and efficient way to store and manipulate data in key-value pairs."
      ],
      "metadata": {
        "id": "okCjefGArwfS"
      }
    },
    {
      "cell_type": "markdown",
      "source": [
        "#QUESTION 5 Why might you use a set instead of a list in Python?"
      ],
      "metadata": {
        "id": "w3dbdkGufPq1"
      }
    },
    {
      "cell_type": "markdown",
      "source": [
        "-> Instead of using a set instead of a list in python,in sets are ideal for situations where you need to store unique elements, perform fast membership testing, or use set operations. Lists are better suited for ordered data, indexing, and mutable data.\n",
        "\n",
        "You might use a set instead of a list in Python for several reasons: **bold text**\n",
        "\n",
        "1. **Uniqueness**: Sets automatically eliminate duplicates, ensuring that all elements are unique. Lists, on the other hand, can contain duplicate elements.\n",
        "2. **Fast Membership Testing**: Sets provide fast membership testing, with an average time complexity of O(1), making them suitable for large datasets. Lists have a time complexity of O(n) for membership testing.\n",
        "3. **Efficient Insertion and Deletion**: Sets allow for efficient insertion and deletion of elements, with an average time complexity of O(1).\n",
        "\n",
        "**Use Cases:**\n",
        "\n",
        "1. **Removing Duplicates**: When you need to remove duplicates from a collection of elements, sets are a good choice.\n",
        "2. **Membership Testing**: When you need to frequently check if an element is present in a collection, sets are more efficient than lists.\n",
        "3. **Set Operations**: Sets provide various set operations, such as union, intersection, and difference, which can be useful in certain scenarios.\n",
        "\n",
        "As an example of Removing Duplicates and membership Testing is mentioned below  \n",
        "\n",
        "\n",
        "\n",
        "\n"
      ],
      "metadata": {
        "id": "dobjkWS1fXqc"
      }
    },
    {
      "cell_type": "code",
      "source": [
        "# Removing duplicates\n",
        "my_list = [1, 2, 2, 3, 4, 4, 5]\n",
        "my_set = set(my_list)\n",
        "print(my_set)  # {1, 2, 3, 4, 5}\n",
        "\n",
        "# Membership testing\n",
        "print(2 in my_set)  # True\n",
        "print(6 in my_set)  # False\n"
      ],
      "metadata": {
        "id": "GGAcZ3yDq8w0",
        "colab": {
          "base_uri": "https://localhost:8080/"
        },
        "outputId": "120d4447-35ed-411f-a1d1-fb9a0767f42c"
      },
      "execution_count": 17,
      "outputs": [
        {
          "output_type": "stream",
          "name": "stdout",
          "text": [
            "{1, 2, 3, 4, 5}\n",
            "True\n",
            "False\n"
          ]
        }
      ]
    },
    {
      "cell_type": "markdown",
      "source": [
        "**When to Use Lists:**\n",
        "\n",
        "1. **Ordered Data**: When you need to maintain the order of elements, lists are a better choice.\n",
        "2. **Indexing:** When you need to access elements by their index, lists are more suitable.\n",
        "3.** Mutable Data**: When you need to modify elements in place, lists are more flexible.\n",
        "\n",
        "In short , sets are ideal for situations where you need to store unique elements, perform fast membership testing, or use set operations. Lists are better suited for ordered data, indexing, and mutable data."
      ],
      "metadata": {
        "id": "_bGhEsLyrDw1"
      }
    },
    {
      "cell_type": "markdown",
      "source": [
        "#QUESTION 6 What is a string in Python, and how is it different from a list?"
      ],
      "metadata": {
        "id": "gxLzw0-dg8Tj"
      }
    },
    {
      "cell_type": "markdown",
      "source": [
        "-> In Python, a string is a sequence of characters, such as letters, numbers, or symbols, enclosed in quotes (single, double, or triple quotes). Strings are immutable, meaning their contents cannot be modified after creation.\n",
        "\n",
        "**Example:**\n",
        "\n",
        "\n",
        "my_string = \"Hello, World!\"\n",
        "\n",
        "\n",
        "**Differences from Lists:**\n",
        "\n",
        "1.** Immutability**: Strings are immutable, whereas lists are mutable. You cannot change the characters of a string in place.\n",
        "2. **Sequence of Characters**: Strings are sequences of characters, whereas lists can contain any type of element, including strings, integers, and other lists.\n",
        "3. **Indexing and Slicing**: Both strings and lists support indexing and slicing, but strings return characters, while lists return elements.\n",
        "4. **Methods**: Strings have methods specific to string manipulation, such as upper(), lower(), and split(), whereas lists have methods like append(), insert(), and sort().\n",
        "\n",
        "**When to Use Strings:**\n",
        "\n",
        "1. **Text Data**: Use strings to represent text data, such as names, messages, or documents.\n",
        "2. **Character Sequences**: Use strings when working with sequences of characters, such as parsing or manipulating text.\n",
        "\n",
        "**When to Use Lists:**\n",
        "\n",
        "1. **Collections of Elements**: Use lists to store collections of elements, such as numbers, strings, or other lists.\n",
        "2. **Mutable Data**: Use lists when you need to modify the elements of a collection.\n",
        " As an example below it's shows the code of **\"differences from list\"**\n",
        "\n"
      ],
      "metadata": {
        "id": "asiv5H-7niZd"
      }
    },
    {
      "cell_type": "code",
      "source": [
        "my_string = \"Hello\"\n",
        "my_list = [\"H\", \"e\", \"l\", \"l\", \"o\"]\n",
        "\n",
        "# Indexing\n",
        "print(my_string[0])  # \"H\"\n",
        "print(my_list[0])  # \"H\"\n",
        "\n",
        "# Immutability\n",
        "# my_string[0] = \"J\"  # Error: 'str' object does not support item assignment\n",
        "my_list[0] = \"J\"  # Works fine\n",
        "print(my_list)  # [\"J\", \"e\", \"l\", \"l\", \"o\"]\n",
        "\n"
      ],
      "metadata": {
        "id": "o9M6VlFGoIeW",
        "colab": {
          "base_uri": "https://localhost:8080/"
        },
        "outputId": "a8de419a-c9f8-4bda-ef5d-5daafc7cc615"
      },
      "execution_count": 16,
      "outputs": [
        {
          "output_type": "stream",
          "name": "stdout",
          "text": [
            "H\n",
            "H\n",
            "['J', 'e', 'l', 'l', 'o']\n"
          ]
        }
      ]
    },
    {
      "cell_type": "markdown",
      "source": [
        "#QUESTION 7  How do tuples ensure data integrity in Python?\n"
      ],
      "metadata": {
        "id": "W781OPuXmq7e"
      }
    },
    {
      "cell_type": "markdown",
      "source": [
        "->\n",
        "Tuples in Python ensure data integrity in several ways:\n",
        "\n",
        "1. **Immutability**: Tuples are immutable, meaning their contents cannot be modified after creation. This ensures that once a tuple is created, its data remains consistent and unchanged.\n",
        "2.** Protection from Unintended Changes**: By being immutable, tuples protect their data from unintended changes, such as accidental modifications or deletions.\n",
        "3. **Thread Safety**: Tuples are thread-safe due to their immutability, making them suitable for use in multi-threaded applications.\n",
        "4. **Hashability**: Tuples can be used as dictionary keys because they are hashable, which requires immutability.\n",
        "\n",
        "**Benefits:**\n",
        "\n",
        "1. **Data Consistency**: Tuples ensure data consistency by preventing changes to their contents.\n",
        "2. **Code Reliability**: By using tuples, you can write more reliable code that is less prone to errors caused by unintended changes.\n",
        "3. **Security**: Tuples can help prevent security vulnerabilities by protecting sensitive data from unauthorized modifications.\n",
        "\n",
        "In this example which is mentiones below, attempting to modify the tuple raises an error, ensuring that the data remains unchanged.\n",
        "\n"
      ],
      "metadata": {
        "id": "IGv5batpoxu9"
      }
    },
    {
      "cell_type": "code",
      "source": [
        "my_tuple = (1, 2, 3)\n",
        "# my_tuple[0] = 10  # Error: 'tuple' object does not support item assignment\n"
      ],
      "metadata": {
        "id": "oDbhU1ZvpjMd"
      },
      "execution_count": 15,
      "outputs": []
    },
    {
      "cell_type": "markdown",
      "source": [
        "**When to Use Tuples:**\n",
        "\n",
        "1.** Constant Data**: Use tuples to represent constant data that should not be changed.\n",
        "\n",
        "2.** Dictionary Keys**: Use tuples as dictionary keys when you need to use a collection of values as a key.\n",
        "\n",
        "3. **Thread-Safe Data**: Use tuples in multi-threaded applications to ensure thread safety.\n",
        "\n",
        "By using tuples, you can ensure data integrity and write more reliable and secure code."
      ],
      "metadata": {
        "id": "RnkHNrMcp5KU"
      }
    },
    {
      "cell_type": "markdown",
      "source": [
        "# QUESTION 8 What is a hash table, and how does it relate to dictionaries in Python?"
      ],
      "metadata": {
        "id": "sdIuk64mucOb"
      }
    },
    {
      "cell_type": "markdown",
      "source": [
        "-> A hash table (also known as a hash map) is a data structure that stores key-value pairs in an array using a hash function to map keys to indices of the array. The hash function generates a hash code for each key, which determines the location where the corresponding value is stored.\n",
        "\n",
        "**How Hash Tables Work:**\n",
        "\n",
        "1. **Key-Value Pairs** : Hash tables store data as key-value pairs.\n",
        "2. **Hash Function**: A hash function is used to generate a hash code for each key.\n",
        "3. **Indexing:** The hash code is used to index into an array of slots, where each slot contains a key-value pair.\n",
        "4. **Collision Resolution**: When two keys hash to the same index (known as a collision), hash tables use collision resolution techniques, such as chaining or open addressing, to store both key-value pairs.\n",
        "\n",
        "**Dictionaries in Python**:\n",
        "\n",
        "In Python, dictionaries (dicts) are implemented as hash tables. They use a hash function to map keys to indices of an array, allowing for fast lookups, insertions, and deletions.\n",
        "\n",
        "**Benefits of Hash Tables in Dictionaries:**\n",
        "\n",
        "1. **Fast Lookups**: Dictionaries provide fast lookups, with an average time complexity of O(1), making them suitable for large datasets.\n",
        "2. **Efficient Insertion and Deletion**: Dictionaries allow for efficient insertion and deletion of key-value pairs.\n",
        "\n"
      ],
      "metadata": {
        "id": "30YWvfvuulQi"
      }
    },
    {
      "cell_type": "code",
      "source": [
        "my_dict = {\"name\": \"Ronak\", \"age\": 23}\n",
        "print(my_dict[\"name\"])  # \"Ronak\"\n"
      ],
      "metadata": {
        "id": "DlNI9FimvRjw",
        "colab": {
          "base_uri": "https://localhost:8080/"
        },
        "outputId": "7518904a-40b8-4398-de15-ead8a9d26660"
      },
      "execution_count": 14,
      "outputs": [
        {
          "output_type": "stream",
          "name": "stdout",
          "text": [
            "Ronak\n"
          ]
        }
      ]
    },
    {
      "cell_type": "markdown",
      "source": [
        "In this example, the dictionary uses a hash table to store the key-value pairs, allowing for fast lookup of the value associated with the key \"name\".\n"
      ],
      "metadata": {
        "id": "KTMztIGGvhUw"
      }
    },
    {
      "cell_type": "markdown",
      "source": [
        "#QUESTION 9 Can lists contain different data types in Python?"
      ],
      "metadata": {
        "id": "X5sloBePvl2g"
      }
    },
    {
      "cell_type": "markdown",
      "source": [
        "-> Yes, lists in Python can contain different data types. Python lists are heterogeneous, meaning they can store elements of various data types, such as:\n",
        "\n",
        "1. Integers: 1, 2, 3, etc.\n",
        "2. Strings: \"hello\", \"world\", etc.\n",
        "3. Floats: 3.14, -0.5, etc.\n",
        "4. Booleans: True, False\n",
        "5. Other Lists: [1, 2], [\"a\", \"b\"], etc.\n",
        "6. Tuples: (1, 2), (\"a\", \"b\"), etc.\n",
        "7. Dictionaries: {\"name\": \"Ronak\"}, {\"age\": 23}, etc.\n"
      ],
      "metadata": {
        "id": "kacvcMLtvtsA"
      }
    },
    {
      "cell_type": "code",
      "source": [
        "my_list = [1, \"hello\", 3.14, True, [1, 2], {\"name\": \"Ronak\"}]\n",
        "print(my_list)  # [1, 'hello', 3.14, True, [1, 2], {'name': 'Ronak'}]\n"
      ],
      "metadata": {
        "id": "OU49Lw6uv9XS",
        "colab": {
          "base_uri": "https://localhost:8080/"
        },
        "outputId": "d3c939b5-e6de-44dc-da63-a6783f168640"
      },
      "execution_count": 13,
      "outputs": [
        {
          "output_type": "stream",
          "name": "stdout",
          "text": [
            "[1, 'hello', 3.14, True, [1, 2], {'name': 'Ronak'}]\n"
          ]
        }
      ]
    },
    {
      "cell_type": "markdown",
      "source": [
        "Python lists can contain different data types, providing flexibility and dynamic behavior. However, it's essential to consider type checking and error handling when working with heterogeneous lists."
      ],
      "metadata": {
        "id": "oTX2IYfHwPJT"
      }
    },
    {
      "cell_type": "markdown",
      "source": [
        "#QUESTION 10 Explain why strings are immutable in Python?"
      ],
      "metadata": {
        "id": "Ne5CjCpuznKx"
      }
    },
    {
      "cell_type": "markdown",
      "source": [
        "-> In Python, strings are immutable, meaning their contents cannot be modified after creation. This is a deliberate design choice that provides several benefits.\n",
        "\n",
        "**Reasons for Immutability:**\n",
        "\n",
        "1. **Security:** Immutable strings prevent unintended changes to sensitive data, such as passwords or encryption keys.\n",
        "2. **Thread Safety**: Immutable strings are thread-safe, allowing multiple threads to access the same string without fear of one thread modifying the string and affecting other threads.\n",
        "3. **Hashability**: Immutable strings can be used as dictionary keys because they are hashable, which requires immutability.\n",
        "4. **Performance**: Immutable strings can be safely cached and reused, improving performance in certain applications.\n",
        "5. **Code Simplicity**: Immutability simplifies code and reduces the likelihood of bugs caused by unintended string modifications.\n"
      ],
      "metadata": {
        "id": "6hGk84K6zvx5"
      }
    },
    {
      "cell_type": "code",
      "source": [
        "my_string = \"hello\"\n",
        "# my_string[0] = \"H\"  # Error: 'str' object does not support item assignment\n"
      ],
      "metadata": {
        "id": "T19vBuT30J2w"
      },
      "execution_count": 12,
      "outputs": []
    },
    {
      "cell_type": "markdown",
      "source": [
        "In this example, attempting to modify the string raises an error, demonstrating its immutability.\n",
        "\n",
        "**Workarounds:**\n",
        "\n",
        "If you need to modify a string, you can create a new string with the desired changes:\n"
      ],
      "metadata": {
        "id": "nJdREcYR0L7Z"
      }
    },
    {
      "cell_type": "code",
      "source": [
        "my_string = \"hello\"\n",
        "new_string = my_string.upper()\n",
        "print(new_string)  # \"HELLO\"\n"
      ],
      "metadata": {
        "id": "mNptxY0o0RQY",
        "colab": {
          "base_uri": "https://localhost:8080/"
        },
        "outputId": "89d8c413-2676-4db3-e43a-691da2bc3d69"
      },
      "execution_count": 11,
      "outputs": [
        {
          "output_type": "stream",
          "name": "stdout",
          "text": [
            "HELLO\n"
          ]
        }
      ]
    },
    {
      "cell_type": "markdown",
      "source": [
        "Strings are immutable in Python to provide security, thread safety, hashability, performance, and code simplicity benefits. While this may require workarounds for certain use cases, the benefits of immutability make it a valuable design choice."
      ],
      "metadata": {
        "id": "rm512YCF0aFB"
      }
    },
    {
      "cell_type": "markdown",
      "source": [
        "#QUESTION 11 What advantages do dictionaries offer over lists for certain tasks?"
      ],
      "metadata": {
        "id": "z2yAwRCo0hTP"
      }
    },
    {
      "cell_type": "markdown",
      "source": [
        "-> Dictionaries offer several advantages over lists for certain tasks:\n",
        "\n",
        "1. **Fast Lookups**: Dictionaries provide fast lookups, with an average time complexity of O(1), making them suitable for large datasets.\n",
        "2. **Key-Value Pairs**: Dictionaries store data as key-value pairs, allowing for efficient retrieval of values by their corresponding keys.\n",
        "3. **Efficient Insertion and Deletion**: Dictionaries allow for efficient insertion and deletion of key-value pairs.\n",
        "4. **Readability and Maintainability**: Dictionaries can improve code readability and maintainability by providing a clear and concise way to represent complex data structures.\n",
        "\n",
        "**Advantages:**\n",
        "\n",
        "1. **Faster Data Access**: Dictionaries provide faster data access than lists when working with large datasets and complex data structures.\n",
        "2. **More Expressive**: Dictionaries can represent complex data structures in a more expressive and intuitive way than lists.\n",
        "3. **Easier Data Management**: Dictionaries make it easier to manage data by providing a clear and consistent way to store and retrieve data.\n",
        "\n",
        "**Use Cases:**\n",
        "\n",
        "1. **Data Storage**: Dictionaries are suitable for storing and retrieving data by key, such as user information or configuration settings.\n",
        "2. **Caching**: Dictionaries can be used as a cache to store frequently accessed data.\n",
        "3. **Data Processing**: Dictionaries can be used to process data, such as aggregating or transforming data.\n"
      ],
      "metadata": {
        "id": "rS7zn4ub05uy"
      }
    },
    {
      "cell_type": "code",
      "source": [
        "# Using a dictionary to store user information\n",
        "users = { \"ronak\": {\"age\": 23, \"city\": \"Bhubaneswar\"},\n",
        "    \"roni\": {\"age\": 25, \"city\": \"Raipur\"}}\n",
        "\n",
        "# Fast lookup\n",
        "print(users[\"ronak\"][\"age\"])  # 23\n"
      ],
      "metadata": {
        "id": "osUI6DDx1_9H",
        "colab": {
          "base_uri": "https://localhost:8080/"
        },
        "outputId": "bf74f4a6-85e7-4c16-efd8-9e37c9523b18"
      },
      "execution_count": 10,
      "outputs": [
        {
          "output_type": "stream",
          "name": "stdout",
          "text": [
            "23\n"
          ]
        }
      ]
    },
    {
      "cell_type": "markdown",
      "source": [
        "Dictionaries offer advantages over lists for certain tasks, such as fast lookups, efficient insertion and deletion, and improved readability and maintainability. Dictionaries are particularly useful when working with complex data structures and large datasets."
      ],
      "metadata": {
        "id": "Q17DVS_32f_O"
      }
    },
    {
      "cell_type": "markdown",
      "source": [
        "#QUESTION 12  Describe a scenario where using a tuple would be preferable over a list?"
      ],
      "metadata": {
        "id": "XnbFee__2jW2"
      }
    },
    {
      "cell_type": "markdown",
      "source": [
        "-> Here's a scenario where using a tuple would be preferable over a list:\n",
        "\n",
        "**Scenario:**\n",
        "\n",
        "Suppose you're writing a program that needs to represent a point in 2D space with x and y coordinates. You want to ensure that the coordinates are not modified accidentally, and you also want to use the point as a key in a dictionary.\n",
        "\n",
        "**Why Tuples are Preferable:**\n",
        "\n",
        "1. **Immutability**: Tuples are immutable, which ensures that the coordinates are not modified accidentally.\n",
        "2.** Hashability**: Tuples are hashable, which allows you to use them as keys in a dictionary.\n",
        "\n"
      ],
      "metadata": {
        "id": "ue7Iu3a32zGn"
      }
    },
    {
      "cell_type": "code",
      "source": [
        "point = (1, 2)  # tuple representing a point in 2D space\n",
        "\n",
        "# Using the point as a key in a dictionary\n",
        "points_dict = {(1, 2): \"Point A\", (3, 4): \"Point B\"}\n",
        "print(points_dict[point])  # \"Point A\"\n",
        "\n",
        "# Attempting to modify the point raises an error\n",
        "# point[0] = 10  # Error: 'tuple' object does not support item assignment\n"
      ],
      "metadata": {
        "id": "qEJWSoKp3FC8",
        "colab": {
          "base_uri": "https://localhost:8080/"
        },
        "outputId": "dbebec24-0c4d-4893-de16-3464a714359d"
      },
      "execution_count": 9,
      "outputs": [
        {
          "output_type": "stream",
          "name": "stdout",
          "text": [
            "Point A\n"
          ]
        }
      ]
    },
    {
      "cell_type": "markdown",
      "source": [
        "**Benefits:**\n",
        "\n",
        "1. **Data Integrity**: Using a tuple ensures that the coordinates are not modified accidentally, maintaining data integrity.\n",
        "2. **Dictionary Key**: Using a tuple as a key in a dictionary allows for efficient lookup and storage of data associated with the point.\n",
        "\n",
        "**When to Use Tuples:**\n",
        "\n",
        "1. **Constant Data**: Use tuples to represent constant data that should not be modified.\n",
        "2. **Dictionary Keys**: Use tuples as dictionary keys when you need to use a collection of values as a key.\n",
        "3. **Data Integrity**: Use tuples when you need to ensure data integrity and prevent accidental modifications.\n",
        "Tuples are preferable over lists when you need to represent constant data, use a collection of values as a dictionary key, or ensure data integrity.\n",
        "\n"
      ],
      "metadata": {
        "id": "wZ-LFr1a3Lbd"
      }
    },
    {
      "cell_type": "markdown",
      "source": [
        "#QUESTION 13 How do sets handle duplicate values in Python?"
      ],
      "metadata": {
        "id": "0QZ1uyU43gA1"
      }
    },
    {
      "cell_type": "markdown",
      "source": [
        "-> In Python, sets are unordered collections of unique elements. When you add elements to a set, Python automatically removes any duplicates.\n",
        "\n",
        "Handling Duplicate Values:\n",
        "\n",
        "1. Automatic Duplicate Removal: Sets automatically remove duplicates when you add elements.\n",
        "2. Uniqueness: Sets only store unique elements, ensuring that there are no duplicates.\n"
      ],
      "metadata": {
        "id": "dnqqQkwJ3p3U"
      }
    },
    {
      "cell_type": "code",
      "source": [
        "my_set = {1, 2, 2, 3, 4, 4, 5}\n",
        "print(my_set)  # {1, 2, 3, 4, 5}\n",
        "\n",
        "# Adding duplicates to a set\n",
        "my_set.add(2)\n",
        "my_set.add(4)\n",
        "print(my_set)  # {1, 2, 3, 4, 5} (no duplicates added)\n"
      ],
      "metadata": {
        "id": "ZUkN3V6n310N",
        "colab": {
          "base_uri": "https://localhost:8080/"
        },
        "outputId": "14b373e6-fd4f-4627-ce45-7f36c735ce58"
      },
      "execution_count": 8,
      "outputs": [
        {
          "output_type": "stream",
          "name": "stdout",
          "text": [
            "{1, 2, 3, 4, 5}\n",
            "{1, 2, 3, 4, 5}\n"
          ]
        }
      ]
    },
    {
      "cell_type": "markdown",
      "source": [
        "**Benefits:**\n",
        "\n",
        "1. **Efficient Duplicate Removal**: Sets provide efficient duplicate removal, making them suitable for large datasets.\n",
        "2. **Fast Membership Testing**: Sets allow for fast membership testing, making it easy to check if an element is present in the set.\n",
        "\n",
        "**Use Cases:**\n",
        "\n",
        "1. **Removing Duplicates**: Use sets to remove duplicates from a collection of elements.\n",
        "2. **Membership Testing**: Use sets to perform fast membership testing.\n",
        "3. **Set Operations**: Use sets to perform set operations, such as union, intersection, and difference.\n"
      ],
      "metadata": {
        "id": "vIyHGlYH34lU"
      }
    },
    {
      "cell_type": "code",
      "source": [
        "# Removing duplicates from a list\n",
        "my_list = [1, 2, 2, 3, 4, 4, 5]\n",
        "my_set = set(my_list)\n",
        "print(my_set)  # {1, 2, 3, 4, 5}\n"
      ],
      "metadata": {
        "id": "vthFVs6_4CWO",
        "colab": {
          "base_uri": "https://localhost:8080/"
        },
        "outputId": "5bb96685-5024-4484-ebd5-680d7e8d4c70"
      },
      "execution_count": 7,
      "outputs": [
        {
          "output_type": "stream",
          "name": "stdout",
          "text": [
            "{1, 2, 3, 4, 5}\n"
          ]
        }
      ]
    },
    {
      "cell_type": "markdown",
      "source": [
        "In short, sets in Python automatically handle duplicate values by removing them, making them a useful data structure for working with unique elements."
      ],
      "metadata": {
        "id": "pNuwFGfd4K7U"
      }
    },
    {
      "cell_type": "markdown",
      "source": [
        "#QUESTION 14 How does the “in” keyword work differently for lists and dictionaries?\n"
      ],
      "metadata": {
        "id": "lu3o8pN34SJE"
      }
    },
    {
      "cell_type": "markdown",
      "source": [
        "-> The \"in\" keyword in Python is used to check if an element is present in a collection. However, its behavior differs between lists and dictionaries.\n",
        "\n",
        "Lists:\n",
        "\n",
        "For lists, the \"in\" keyword checks if an element is present in the list.\n",
        "\n"
      ],
      "metadata": {
        "id": "7Ur8ndVn4b38"
      }
    },
    {
      "cell_type": "code",
      "source": [
        "my_list = [1, 2, 3, 4, 5]\n",
        "print(2 in my_list)  # True\n",
        "print(6 in my_list)  # False\n"
      ],
      "metadata": {
        "id": "QSMUZTSC612L",
        "colab": {
          "base_uri": "https://localhost:8080/"
        },
        "outputId": "c09da674-651a-412e-f8e3-0fd611f18950"
      },
      "execution_count": 6,
      "outputs": [
        {
          "output_type": "stream",
          "name": "stdout",
          "text": [
            "True\n",
            "False\n"
          ]
        }
      ]
    },
    {
      "cell_type": "markdown",
      "source": [
        "**Dictionaries**\n",
        "\n",
        "For dictionaries, the \"in\" keywords checks if a key is present in dictionary."
      ],
      "metadata": {
        "id": "-J4LBd1mBsCu"
      }
    },
    {
      "cell_type": "code",
      "source": [
        "my_dict = {\"name\": \"Ronak\", \"age\": 23}\n",
        "print(\"name\" in my_dict)  # True\n",
        "print(\"city\" in my_dict)  # False\n",
        "\n"
      ],
      "metadata": {
        "id": "yB9kONp6CHYe",
        "colab": {
          "base_uri": "https://localhost:8080/"
        },
        "outputId": "0885b2ac-de3c-4045-d6c7-fd46e8a8fc80"
      },
      "execution_count": 5,
      "outputs": [
        {
          "output_type": "stream",
          "name": "stdout",
          "text": [
            "True\n",
            "False\n"
          ]
        }
      ]
    },
    {
      "cell_type": "markdown",
      "source": [
        "**Key Differences:**\n",
        "\n",
        "1. **List**: Checks for element presence.\n",
        "2. **Dictionary**: Checks for key presence.\n",
        "\n",
        "**Checking Values in Dictionaries:**\n",
        "\n",
        "If you want to check if a value is present in a dictionary, you can use the .values() method"
      ],
      "metadata": {
        "id": "9wVFIb56Cc3O"
      }
    },
    {
      "cell_type": "code",
      "source": [
        "my_dict = {\"name\": \"Ronak\", \"age\": 23}\n",
        "print(\"Ronak\" in my_dict.values())  # True\n"
      ],
      "metadata": {
        "id": "wx2jns-VCoY-",
        "colab": {
          "base_uri": "https://localhost:8080/"
        },
        "outputId": "bc2d3998-3734-4e7b-9d77-dea48e8a658a"
      },
      "execution_count": 4,
      "outputs": [
        {
          "output_type": "stream",
          "name": "stdout",
          "text": [
            "True\n"
          ]
        }
      ]
    },
    {
      "cell_type": "markdown",
      "source": [
        "**Use Cases:**\n",
        "\n",
        "1.** List: Use** \"in\" to check if an element is present in a list.\n",
        "\n",
        "2.** Dictionary** : Use \"in\" to check if a key is present in a dictionary.\n",
        "\n",
        "The \"in\" keyword works differently for lists and dictionaries, checking for element presence in lists and key presence in dictionaries."
      ],
      "metadata": {
        "id": "Hr0h5s_XCsN1"
      }
    },
    {
      "cell_type": "markdown",
      "source": [
        "#QUESTION 15 Can you modify the elements of a tuple? Explain why or why not?\n"
      ],
      "metadata": {
        "id": "IBUkfP1GC52m"
      }
    },
    {
      "cell_type": "markdown",
      "source": [
        "-> No, you cannot modify the elements of a tuple directly. Tuples are immutable, meaning their contents cannot be changed after creation.\n",
        "\n",
        "**Why Tuples are Immutable:**\n",
        "\n",
        "1. Design Choice: Tuples were designed to be immutable to provide a way to represent constant data that should not be changed.\n",
        "2. Thread Safety: Immutable tuples are thread-safe, allowing multiple threads to access the same tuple without fear of one thread modifying the tuple and affecting other threads.\n",
        "3. Hashability: Immutable tuples can be used as dictionary keys because they are hashable, which requires immutability.\n"
      ],
      "metadata": {
        "id": "xxK9UB0ODNdN"
      }
    },
    {
      "cell_type": "code",
      "source": [
        "my_tuple = (1, 2, 3)\n",
        "# my_tuple[0] = 10  # Error: 'tuple' object does not support item assignment\n"
      ],
      "metadata": {
        "id": "MQI51mpjDhL1"
      },
      "execution_count": 23,
      "outputs": []
    },
    {
      "cell_type": "markdown",
      "source": [
        "Workarounds:\n",
        "\n",
        "If you need to modify a tuple, you can create a new tuple with the desired changes:"
      ],
      "metadata": {
        "id": "qN7DBJuADm8W"
      }
    },
    {
      "cell_type": "code",
      "source": [
        "my_tuple = (1, 2, 3)\n",
        "new_tuple = (10, my_tuple[1], my_tuple[2])\n",
        "print(new_tuple)  # (10, 2, 3)\n"
      ],
      "metadata": {
        "id": "Um5CCA9_DvFm",
        "colab": {
          "base_uri": "https://localhost:8080/"
        },
        "outputId": "7f4b3b3c-4d3d-4e4f-e314-9b3547b5d5c2"
      },
      "execution_count": 2,
      "outputs": [
        {
          "output_type": "stream",
          "name": "stdout",
          "text": [
            "(10, 2, 3)\n"
          ]
        }
      ]
    },
    {
      "cell_type": "markdown",
      "source": [
        "Alternatively, you can convert the tuple to a list, modify the list, and then convert it back to a tuple:\n"
      ],
      "metadata": {
        "id": "F07BvuZXDzY9"
      }
    },
    {
      "cell_type": "code",
      "source": [
        "my_tuple = (1, 2, 3)\n",
        "my_list = list(my_tuple)\n",
        "my_list[0] = 10\n",
        "new_tuple = tuple(my_list)\n",
        "print(new_tuple)  # (10, 2, 3)\n",
        "\n"
      ],
      "metadata": {
        "id": "uF7NnD2RD2Iu",
        "colab": {
          "base_uri": "https://localhost:8080/"
        },
        "outputId": "f716212d-d5b8-4bba-8872-41213d407b57"
      },
      "execution_count": 24,
      "outputs": [
        {
          "output_type": "stream",
          "name": "stdout",
          "text": [
            "(10, 2, 3)\n"
          ]
        }
      ]
    },
    {
      "cell_type": "markdown",
      "source": [
        "Tuples are immutable, and their elements cannot be modified directly. However, you can create new tuples with the desired changes or convert tuples to lists and back to tuples to achieve modification."
      ],
      "metadata": {
        "id": "m_lZuxa4D8kF"
      }
    },
    {
      "cell_type": "markdown",
      "source": [
        "#QUESTION 16 What is a nested dictionary, and give an example of its use case?"
      ],
      "metadata": {
        "id": "y00C7L5-ESkd"
      }
    },
    {
      "cell_type": "markdown",
      "source": [
        "-> A nested dictionary is a dictionary that contains another dictionary as its value. This allows for complex data structures and hierarchical organization of data.\n",
        "      Nested dictionaries are a powerful data structure that allows for complex data representation and hierarchical organization. They are useful in a variety of use cases, including representing user data, configuring applications, and serializing complex data structures.\n",
        "\n"
      ],
      "metadata": {
        "id": "qre8AarBEb7e"
      }
    },
    {
      "cell_type": "code",
      "source": [
        "person = {\n",
        "    \"name\": \"Ronak\",\n",
        "    \"age\": 23,\n",
        "    \"address\": {\n",
        "        \"street\": \"25D\",\n",
        "        \"city\": \"Bhubaneswar\",\n",
        "        \"state\": \"OD\"\n",
        "    }\n",
        "}\n"
      ],
      "metadata": {
        "id": "To6_W2T8E8nN"
      },
      "execution_count": 25,
      "outputs": []
    },
    {
      "cell_type": "markdown",
      "source": [
        "**It's uses case**\n",
        "\n",
        "  Nested dictionaries are useful when you need to represent complex data with hierarchical relationships. For example:\n",
        "\n",
        "1. **Representing User Data**: You can use nested dictionaries to store user information, such as name, age, and address.\n",
        "2. **Configuring Applications**: Nested dictionaries can be used to store configuration settings for applications, such as database connections or API keys.\n",
        "3.** Data Serialization**: Nested dictionaries can be used to serialize complex data structures, such as JSON data.\n",
        "\n",
        "**Accessing Nested Dictionary Values:**\n",
        "\n",
        "To access values in a nested dictionary, you can use the following syntax:\n",
        "\n"
      ],
      "metadata": {
        "id": "XlQvE2PcFMpt"
      }
    },
    {
      "cell_type": "code",
      "source": [
        "print(person[\"address\"][\"street\"])  # \"25D\""
      ],
      "metadata": {
        "id": "9UFBKY5IFo_l",
        "colab": {
          "base_uri": "https://localhost:8080/"
        },
        "outputId": "c7cc901b-6381-4018-c991-e3a0ac236ea4"
      },
      "execution_count": 26,
      "outputs": [
        {
          "output_type": "stream",
          "name": "stdout",
          "text": [
            "25D\n"
          ]
        }
      ]
    },
    {
      "cell_type": "markdown",
      "source": [
        "Updating Nested Dictionary Values:\n",
        "\n",
        "To update values in a nested dictionary, you can use the following syntax:\n",
        "\n",
        "\n"
      ],
      "metadata": {
        "id": "JCz1z1_OF5EG"
      }
    },
    {
      "cell_type": "code",
      "source": [
        "person[\"address\"][\"city\"] = \"Bhubaneswar\"\n",
        "print(person[\"address\"][\"city\"])  # \"Bhubaneswar\"\n"
      ],
      "metadata": {
        "id": "0JmBdfJhF6FG",
        "colab": {
          "base_uri": "https://localhost:8080/"
        },
        "outputId": "6b14a3aa-1273-4488-d04e-887119ccbd1b"
      },
      "execution_count": 27,
      "outputs": [
        {
          "output_type": "stream",
          "name": "stdout",
          "text": [
            "Bhubaneswar\n"
          ]
        }
      ]
    },
    {
      "cell_type": "markdown",
      "source": [
        "#QUETSION 17 Describe the time complexity of accessing elements in a dictionary?"
      ],
      "metadata": {
        "id": "H9tDJexIGlN3"
      }
    },
    {
      "cell_type": "markdown",
      "source": [
        "-> The time complexity of accessing elements in a dictionary is typically O(1), making dictionaries very efficient for lookups.\n",
        "Dictionary access is typically O(1), making dictionaries a very efficient data structure for lookups. However, factors like hash function quality, dictionary size, and load factor can affect performance.\n",
        "\n",
        "**Why O(1) Time Complexity:**\n",
        "\n",
        "1. **Hash Table**: Dictionaries are implemented as hash tables, which allow for fast lookups.\n",
        "2. **Hash Function**: The hash function maps keys to indices of the underlying array, enabling fast access to values.\n",
        "\n",
        "**Average Case:**\n",
        "\n",
        "In the average case, dictionary lookups are O(1) because the hash function distributes keys evenly across the underlying array.\n",
        "\n",
        "**Worst Case:**\n",
        "\n",
        "In the worst case, dictionary lookups can be O(n) if there are many hash collisions. However, this is rare and usually occurs when the hash function is poorly designed or the dictionary is highly loaded.\n",
        "\n",
        "**Factors Affecting Performance:**\n",
        "\n",
        "1.** Hash Function Quality**: A good hash function can minimize collisions and improve performance.\n",
        "2.** Dictionary Size**: A larger dictionary can lead to more collisions and decreased performance.\n",
        "3. **Load Factor:** A high load factor (number of elements / dictionary size) can lead to more collisions and decreased performance.\n",
        "\n",
        "**Best Practices:**\n",
        "\n",
        "1. **Use a Good Hash Function**: Use a well-designed hash function to minimize collisions.\n",
        "2. **Monitor Dictionary Size**: Monitor dictionary size and resize as needed to maintain a low load factor.\n"
      ],
      "metadata": {
        "id": "VT7qTupGGtMN"
      }
    },
    {
      "cell_type": "markdown",
      "source": [
        "#QUESTION 18 In what situations are lists preferred over dictionaries?"
      ],
      "metadata": {
        "id": "iC86GTVaHVtF"
      }
    },
    {
      "cell_type": "markdown",
      "source": [
        "-> Lists are preferred over dictionaries in the following situations:\n",
        "\n",
        "1. **Ordered Data**: When you need to maintain the order of elements, lists are a better choice because dictionaries are inherently unordered (although Python 3.7+ dictionaries maintain insertion order).\n",
        "2. **Index-Based Access**: When you need to access elements by their index, lists are more suitable because dictionaries require key-based access.\n",
        "3. **Sequential Data**: When working with sequential data, such as a list of items that need to be processed in a specific order, lists are a better fit.\n",
        "4. **Homogeneous Data**: When working with homogeneous data (i.e., data of the same type), lists are often more suitable because dictionaries are often used for heterogeneous data (i.e., data of different types).\n",
        "\n",
        "**Use Cases:**\n",
        "\n",
        "1. **Processing a Queue**: When processing a queue of items, lists are a natural fit because you can easily add and remove items from the end or beginning of the list.\n",
        "2. **Working with Arrays**: When working with arrays or matrices, lists can be used to represent the data and perform operations like indexing and slicing.\n",
        "3. **Iterating over Data:** When iterating over data in a specific order, lists are a good choice because you can use a for loop to iterate over the elements.\n",
        "\n"
      ],
      "metadata": {
        "id": "W6by3XWOHfT0"
      }
    },
    {
      "cell_type": "code",
      "source": [
        "# Using a list to represent a queue\n",
        "queue = [1, 2, 3, 4, 5]\n",
        "queue.append(6)  # Add item to the end of the queue\n",
        "print(queue.pop(0))  # Remove and return the first item in the queue\n"
      ],
      "metadata": {
        "id": "cnpyTzZHIErc",
        "colab": {
          "base_uri": "https://localhost:8080/"
        },
        "outputId": "df470319-5443-41b7-9f32-810c569aff38"
      },
      "execution_count": 28,
      "outputs": [
        {
          "output_type": "stream",
          "name": "stdout",
          "text": [
            "1\n"
          ]
        }
      ]
    },
    {
      "cell_type": "markdown",
      "source": [
        "**When to Use Dictionaries**:\n",
        "\n",
        "1. **Key-Value Pairs**: Use dictionaries when you need to store data as key-value pairs and perform fast lookups.\n",
        "2. **Heterogeneous Data**: Use dictionaries when working with heterogeneous data and you need to access data by key.\n",
        "\n",
        "Lists are preferred over dictionaries when you need to maintain order, access elements by index, work with sequential data, or process homogeneous data. Dictionaries are better suited for key-value pairs, heterogeneous data, and fast lookups.\n"
      ],
      "metadata": {
        "id": "gBz2QCeHINde"
      }
    },
    {
      "cell_type": "markdown",
      "source": [
        "#QUESTION 19 Why are dictionaries considered unordered, and how does that affect data retrieval?"
      ],
      "metadata": {
        "id": "n3e_-7DjIY08"
      }
    },
    {
      "cell_type": "markdown",
      "source": [
        "-> In Python versions prior to 3.7, dictionaries were considered unordered because the order of key-value pairs was not guaranteed. This was due to the implementation of dictionaries as hash tables, which do not maintain a specific order.\n",
        "\n",
        "**Why Unordered:**\n",
        "\n",
        "1. **Hash Table Implementation**: Dictionaries were implemented as hash tables, which store key-value pairs in a way that allows for fast lookups, but does not preserve the order of insertion.\n",
        "2. **Internal Storage**: The internal storage of dictionaries was designed for efficient lookup and insertion, not for maintaining a specific order.\n",
        "\n",
        "**Effect on Data Retrieval:**\n",
        "\n",
        "1. **No Guaranteed Order**: When iterating over a dictionary, the order of key-value pairs was not guaranteed, which could lead to unexpected behavior.\n",
        "2. **No Index-Based Access**: Because dictionaries were unordered, you couldn't access elements by index like you can with lists.\n",
        "\n",
        "**Python 3.7+:**\n",
        "\n",
        "In Python 3.7 and later, dictionaries maintain their insertion order. This means that when you iterate over a dictionary, the key-value pairs will be returned in the order they were inserted.\n",
        "\n",
        "**OrderedDict:**\n",
        "\n",
        "If you need to ensure that a dictionary maintains a specific order, you can use the OrderedDict class from the collections module. This class provides a dictionary that remembers the order in which keys were inserted.\n",
        "\n"
      ],
      "metadata": {
        "id": "8dNgonNSInqE"
      }
    },
    {
      "cell_type": "code",
      "source": [
        "from collections import OrderedDict\n",
        "\n",
        "ordered_dict = OrderedDict([(\"a\", 1), (\"b\", 2), (\"c\", 3)])\n",
        "for key, value in ordered_dict.items():\n",
        "    print(key, value)  # Output will be in the order of insertion\n"
      ],
      "metadata": {
        "id": "cYbQZO3CJLVE",
        "colab": {
          "base_uri": "https://localhost:8080/"
        },
        "outputId": "58cdbe33-744f-4690-8ef7-1138c405636c"
      },
      "execution_count": 29,
      "outputs": [
        {
          "output_type": "stream",
          "name": "stdout",
          "text": [
            "a 1\n",
            "b 2\n",
            "c 3\n"
          ]
        }
      ]
    },
    {
      "cell_type": "markdown",
      "source": [
        "**Impact on Data Retrieval:**\n",
        "\n",
        "1. Predictable Order: With ordered dictionaries, you can rely on the order of key-value pairs when iterating over the dictionary.\n",
        "2. Improved Code Readability: Knowing the order of key-value pairs can make your code more readable and predictable.\n",
        "\n",
        " While dictionaries were previously considered unordered, Python 3.7+ dictionaries maintain their insertion order. If you need to ensure a specific order, you can use the OrderedDict class. The ordering of dictionaries can affect data retrieval, particularly when iterating over key-value pairs."
      ],
      "metadata": {
        "id": "iCZ-J6beJU6T"
      }
    },
    {
      "cell_type": "markdown",
      "source": [
        "#QUESTION 20 Explain the difference between a list and a dictionary in terms of data retrieval?"
      ],
      "metadata": {
        "id": "8eUSTRG_Jka0"
      }
    },
    {
      "cell_type": "markdown",
      "source": [
        "-> The main difference between lists and dictionaries in terms of data retrieval is how you access the data:\n",
        "\n",
        "**Lists:**\n",
        "\n",
        "1. Index-Based Access: Lists are indexed, meaning you access elements by their position (index) in the list.\n",
        "2. Sequential Access: Lists are typically accessed sequentially, either by iterating over the list or accessing elements by their index.\n",
        "\n",
        "**Dictionaries:**\n",
        "\n",
        "1. **Key-Based Access**: Dictionaries are accessed by key, meaning you retrieve values by their corresponding keys.\n",
        "2.** Fast Lookups**: Dictionaries provide fast lookups, allowing you to quickly retrieve values by their keys.\n",
        "\n",
        "\n",
        "\n"
      ],
      "metadata": {
        "id": "-ZePDgb0JvEE"
      }
    },
    {
      "cell_type": "code",
      "source": [
        "# List example\n",
        "my_list = [1, 2, 3, 4, 5]\n",
        "print(my_list[0])  # Accessing by index\n",
        "\n",
        "# Dictionary example\n",
        "my_dict = {\"name\": \"John\", \"age\": 30}\n",
        "print(my_dict[\"name\"])  # Accessing by key\n"
      ],
      "metadata": {
        "id": "0TxNvivkKNo9",
        "colab": {
          "base_uri": "https://localhost:8080/"
        },
        "outputId": "50a3f9da-401d-4ef3-948e-8f93978d5099"
      },
      "execution_count": 30,
      "outputs": [
        {
          "output_type": "stream",
          "name": "stdout",
          "text": [
            "1\n",
            "John\n"
          ]
        }
      ]
    },
    {
      "cell_type": "markdown",
      "source": [
        "**When to Use Each:**\n",
        "\n",
        "1. **Lists**: Use lists when you need to maintain order, access elements by index, or perform sequential operations.\n",
        "2. **Dictionaries**: Use dictionaries when you need fast lookups, store key-value pairs, or access data by key.\n",
        "\n",
        "In,lists and dictionaries differ significantly in terms of data retrieval. Lists are suited for index-based access and sequential operations, while dictionaries are optimized for fast key-based lookups."
      ],
      "metadata": {
        "id": "MvMrx-MQKZ5k"
      }
    },
    {
      "cell_type": "markdown",
      "source": [
        "#Practical Questions & ANSWER"
      ],
      "metadata": {
        "id": "bVYD1xdCKk7T"
      }
    },
    {
      "cell_type": "markdown",
      "source": [
        "#QUESTION 1 Write a code to create a string with your name and print it?"
      ],
      "metadata": {
        "id": "QNORFosnKvIs"
      }
    },
    {
      "cell_type": "code",
      "source": [
        "name = \"Ronak \"\n",
        "greeting = \"Hello, my name is \" + name #changed Ronak to name\n",
        "print(greeting)\n"
      ],
      "metadata": {
        "id": "3QYkkHc_yHTS",
        "colab": {
          "base_uri": "https://localhost:8080/"
        },
        "outputId": "66ee0ebf-94a3-4437-a77c-520ad01745aa"
      },
      "execution_count": 31,
      "outputs": [
        {
          "output_type": "stream",
          "name": "stdout",
          "text": [
            "Hello, my name is Ronak \n"
          ]
        }
      ]
    },
    {
      "cell_type": "markdown",
      "source": [
        "Output:\n",
        "Hello, my name is Ronak\n",
        "\n",
        "Alternative:\n",
        "\n",
        "You can also use f-strings (formatted string literals) to create the string:\n",
        "\n",
        "Both codes will produce the same output.\n"
      ],
      "metadata": {
        "id": "RUjZTpVUy0jq"
      }
    },
    {
      "cell_type": "code",
      "source": [
        "name = \"Ronak\"\n",
        "print(f\"Hello, my name is Ronak\")"
      ],
      "metadata": {
        "colab": {
          "base_uri": "https://localhost:8080/"
        },
        "id": "LPQ5FYKvy1uL",
        "outputId": "935713f9-3ef4-4e10-a95f-e535cba7cc41"
      },
      "execution_count": null,
      "outputs": [
        {
          "output_type": "stream",
          "name": "stdout",
          "text": [
            "Hello, my name is Ronak\n"
          ]
        }
      ]
    },
    {
      "cell_type": "markdown",
      "source": [
        "#QUESTION 2 Write a code to find the length of the string \"Hello World\""
      ],
      "metadata": {
        "id": "cNv7wT4uzt15"
      }
    },
    {
      "cell_type": "code",
      "source": [
        "string = \"Hello World\"\n",
        "length = len(string)\n",
        "print(length)"
      ],
      "metadata": {
        "id": "TbmugxIBz0lh",
        "colab": {
          "base_uri": "https://localhost:8080/"
        },
        "outputId": "ab695012-9177-4b3b-89c1-460964e0ada0"
      },
      "execution_count": null,
      "outputs": [
        {
          "output_type": "stream",
          "name": "stdout",
          "text": [
            "11\n"
          ]
        }
      ]
    },
    {
      "cell_type": "markdown",
      "source": [
        "Output:\n",
        "11\n",
        "This code uses the built-in len() function in Python to calculate the length of the string. The length includes the space between \"Hello\" and \"World\".\n",
        "Alternatively, you can directly pass the string to the len() function:\n",
        "\n"
      ],
      "metadata": {
        "id": "wihxtZn7VY1K"
      }
    },
    {
      "cell_type": "code",
      "source": [
        "print(len(\"Hello World\"))\n"
      ],
      "metadata": {
        "colab": {
          "base_uri": "https://localhost:8080/"
        },
        "id": "q9K54q0tVj3x",
        "outputId": "d06f8ecf-62e7-47f4-b580-489ec6cde6b5"
      },
      "execution_count": null,
      "outputs": [
        {
          "output_type": "stream",
          "name": "stdout",
          "text": [
            "11\n"
          ]
        }
      ]
    },
    {
      "cell_type": "markdown",
      "source": [
        "# QUESTION 3 Write a code to slice the first 3 characters from the string \"Python Programming\"."
      ],
      "metadata": {
        "id": "th6bcjAWVpYk"
      }
    },
    {
      "cell_type": "code",
      "source": [
        "string = \"Python Programming\"\n",
        "sliced_string = string[:3]\n",
        "print(sliced_string)\n"
      ],
      "metadata": {
        "colab": {
          "base_uri": "https://localhost:8080/"
        },
        "id": "WBry_F54V5Yz",
        "outputId": "e3a0609d-9cb8-4ef0-b6b7-aa3b3481b824"
      },
      "execution_count": null,
      "outputs": [
        {
          "output_type": "stream",
          "name": "stdout",
          "text": [
            "Pyt\n"
          ]
        }
      ]
    },
    {
      "cell_type": "markdown",
      "source": [
        "Output:\n",
        "Pyt\n",
        "\n",
        "This code uses Python's string slicing feature to extract the first 3 characters from the string. The [:3] slice means \"start at the beginning and go up to, but not including, the 3rd index\".\n",
        "Alternatively, you can directly slice the string:\n"
      ],
      "metadata": {
        "id": "DGWhNuXMWA3k"
      }
    },
    {
      "cell_type": "code",
      "source": [
        "print(\"Python Programming\"[:3])\n"
      ],
      "metadata": {
        "colab": {
          "base_uri": "https://localhost:8080/"
        },
        "id": "f1qkImJ0WLZx",
        "outputId": "92a0cfb3-0953-443b-8704-879a9a382c2c"
      },
      "execution_count": null,
      "outputs": [
        {
          "output_type": "stream",
          "name": "stdout",
          "text": [
            "Pyt\n"
          ]
        }
      ]
    },
    {
      "cell_type": "markdown",
      "source": [
        "# QUESTION 4 Write a code to convert the string \"hello\" to uppercase."
      ],
      "metadata": {
        "id": "VfnlPTA4WNbB"
      }
    },
    {
      "cell_type": "code",
      "source": [
        "string = \"hello\"\n",
        "uppercase_string = string.upper()\n",
        "print(uppercase_string)\n"
      ],
      "metadata": {
        "colab": {
          "base_uri": "https://localhost:8080/"
        },
        "id": "eljG-6a3YCZZ",
        "outputId": "482491be-7cbf-49d6-fc01-6088e3fe3384"
      },
      "execution_count": null,
      "outputs": [
        {
          "output_type": "stream",
          "name": "stdout",
          "text": [
            "HELLO\n"
          ]
        }
      ]
    },
    {
      "cell_type": "markdown",
      "source": [
        "Output:\n",
        "HELLO\n",
        "\n",
        "This code uses the upper() method in Python to convert the string to uppercase.\n",
        "\n",
        "Alternatively, you can directly call the upper() method on the string:\n",
        "\n"
      ],
      "metadata": {
        "id": "W6s2CQ0lYFhv"
      }
    },
    {
      "cell_type": "code",
      "source": [
        "print(\"hello\".upper())\n"
      ],
      "metadata": {
        "colab": {
          "base_uri": "https://localhost:8080/"
        },
        "id": "sYIDKlSyYL-1",
        "outputId": "4ef21fb4-b635-454c-fed5-ebdcb041c01f"
      },
      "execution_count": null,
      "outputs": [
        {
          "output_type": "stream",
          "name": "stdout",
          "text": [
            "HELLO\n"
          ]
        }
      ]
    },
    {
      "cell_type": "markdown",
      "source": [
        "# QUESTION 5 Write a code to replace the word \"apple\" with \"orange\" in the string  \"I like apple\"."
      ],
      "metadata": {
        "id": "On1Pq2k1YRW2"
      }
    },
    {
      "cell_type": "code",
      "source": [
        "# Original string\n",
        "text = \"I like apple.\"\n",
        "\n",
        "# Replace 'apple' with 'orange'\n",
        "new_text = text.replace(\"apple\", \"orange\")\n",
        "# Original string\n",
        "text = \"I like apple.\"\n",
        "\n",
        "# Replace 'apple' with 'orange'\n",
        "new_text = text.replace(\"apple\", \"orange\")\n",
        "\n",
        "# Output the new string\n",
        "print(new_text)"
      ],
      "metadata": {
        "colab": {
          "base_uri": "https://localhost:8080/"
        },
        "id": "nG2BkAkHLtQd",
        "outputId": "97201420-0df8-4b07-c0bc-7bea2b44c331"
      },
      "execution_count": null,
      "outputs": [
        {
          "output_type": "stream",
          "name": "stdout",
          "text": [
            "I like orange.\n"
          ]
        }
      ]
    },
    {
      "cell_type": "markdown",
      "source": [
        "Output:\n",
        "\n",
        "I like orange\n",
        "\n",
        "This code uses the replace() method in Python to replace the word \"apple\" with \"orange\" in the string.\n",
        "\n",
        "Alternatively, you can directly call the replace() method on the string:\n"
      ],
      "metadata": {
        "id": "me6l0HLoNVUe"
      }
    },
    {
      "cell_type": "code",
      "source": [
        "print(\"I like apple\".replace(\"apple\", \"orange\"))\n"
      ],
      "metadata": {
        "colab": {
          "base_uri": "https://localhost:8080/"
        },
        "id": "T7W_yqPtM3Dn",
        "outputId": "75a3387a-ac7b-4036-dac7-5fc1c7c59271"
      },
      "execution_count": null,
      "outputs": [
        {
          "output_type": "stream",
          "name": "stdout",
          "text": [
            "I like orange\n"
          ]
        }
      ]
    },
    {
      "cell_type": "markdown",
      "source": [
        "The replace() method is called on the original string text.\n",
        "It takes two arguments: the substring to be replaced (\"apple\") and the new substring (\"orange\").\n",
        "The method returns a new string with the specified replacements made, while the original string remains unchanged."
      ],
      "metadata": {
        "id": "w39k0mGrQc1w"
      }
    },
    {
      "cell_type": "markdown",
      "source": [
        "# QUESTION 6  Write a code to create a list with numbers 1 to 5 and print it."
      ],
      "metadata": {
        "id": "HRhDcXTjQHdh"
      }
    },
    {
      "cell_type": "code",
      "source": [
        "# Create a list of numbers from 1 to 5\n",
        "numbers = list(range(1, 6))\n",
        "\n",
        "# Print the list\n",
        "print(numbers)\n"
      ],
      "metadata": {
        "colab": {
          "base_uri": "https://localhost:8080/"
        },
        "id": "zq2yI79_QgNp",
        "outputId": "0c2cf23d-b3a5-44ba-f05a-c7028d935092"
      },
      "execution_count": null,
      "outputs": [
        {
          "output_type": "stream",
          "name": "stdout",
          "text": [
            "[1, 2, 3, 4, 5]\n"
          ]
        }
      ]
    },
    {
      "cell_type": "markdown",
      "source": [
        "Output\n",
        "\n",
        "The output of the code will be:\n",
        "[1, 2, 3, 4, 5]\n",
        "\n",
        "Explanation:\n",
        "The range(1, 6) function generates numbers starting from 1 up to, but not including, 6.\n",
        "The list() constructor converts the range object into a list.\n",
        "Finally, the print() function outputs the list to the console.\n"
      ],
      "metadata": {
        "id": "ESbWnV1oQ0gb"
      }
    },
    {
      "cell_type": "markdown",
      "source": [
        "This code uses the range() function to generate numbers 1 to 5 and the list () function to convert the range object to list.\n",
        "Alternatively, you can directly create the list."
      ],
      "metadata": {
        "id": "mdFefEQ8RDTv"
      }
    },
    {
      "cell_type": "code",
      "source": [
        "numbers = [1, 2, 3, 4, 5]\n",
        "print(numbers)\n"
      ],
      "metadata": {
        "colab": {
          "base_uri": "https://localhost:8080/"
        },
        "id": "GOYJKe7rWEzF",
        "outputId": "f825a2da-707d-44e5-f52a-0b4ba85ac125"
      },
      "execution_count": null,
      "outputs": [
        {
          "output_type": "stream",
          "name": "stdout",
          "text": [
            "[1, 2, 3, 4, 5]\n"
          ]
        }
      ]
    },
    {
      "cell_type": "markdown",
      "source": [
        "# QUESTION 7 Write a code to append the number 10 to the list [1, 2, 3, 4]."
      ],
      "metadata": {
        "id": "sOfBBFBYWV_j"
      }
    },
    {
      "cell_type": "markdown",
      "source": [
        "-> To append a element to a list in python, you can use the 'append()'which adds the specificed item to the end of the list. This method modifies the original list directly"
      ],
      "metadata": {
        "id": "7-3EVfjcWqvZ"
      }
    },
    {
      "cell_type": "code",
      "source": [
        "# Create a list\n",
        "numbers = [1, 2, 3, 4]\n",
        "\n",
        "# Append the number 10 to the list\n",
        "numbers.append(10)\n",
        "\n",
        "# Print the updated list\n",
        "print(numbers)\n"
      ],
      "metadata": {
        "colab": {
          "base_uri": "https://localhost:8080/"
        },
        "id": "uMACaDSsWcVK",
        "outputId": "76c2b55c-8581-481d-d768-eb74d129be79"
      },
      "execution_count": null,
      "outputs": [
        {
          "output_type": "stream",
          "name": "stdout",
          "text": [
            "[1, 2, 3, 4, 10]\n"
          ]
        }
      ]
    },
    {
      "cell_type": "markdown",
      "source": [],
      "metadata": {
        "id": "A1b7_5fiXdbL"
      }
    },
    {
      "cell_type": "markdown",
      "source": [
        "Output\n",
        "\n",
        "The output of the code will be:\n",
        "[1, 2, 3, 4, 10]\n",
        "Explanation\n",
        "\n",
        "The append(10) method adds the number 10 to the end of the existing list.\n",
        "The print() function then displays the modified list, which now includes the appended number."
      ],
      "metadata": {
        "id": "iFEQijd3XyTs"
      }
    },
    {
      "cell_type": "markdown",
      "source": [
        "# QUESTION 8 Write a code to remove the number 3 from the list [1, 2, 3, 4, 5]."
      ],
      "metadata": {
        "id": "p7MDt14RX4yR"
      }
    },
    {
      "cell_type": "markdown",
      "source": [
        "-> To remove an element from a list in Python, you can use the remove() method, which deletes the first occurrence of the specified value. This method alters the original list directly"
      ],
      "metadata": {
        "id": "FGAFU9xzYGuB"
      }
    },
    {
      "cell_type": "code",
      "source": [
        "# Create a list\n",
        "numbers = [1, 2, 3, 4, 5]\n",
        "\n",
        "# Remove the number 3 from the list\n",
        "numbers.remove(3)\n",
        "\n",
        "# Print the updated list\n",
        "print(numbers)\n"
      ],
      "metadata": {
        "colab": {
          "base_uri": "https://localhost:8080/"
        },
        "id": "UrIY7cSQYABq",
        "outputId": "1b58d20b-6448-4d7f-ab2c-f9c6873b2320"
      },
      "execution_count": null,
      "outputs": [
        {
          "output_type": "stream",
          "name": "stdout",
          "text": [
            "[1, 2, 4, 5]\n"
          ]
        }
      ]
    },
    {
      "cell_type": "markdown",
      "source": [
        "-> Output\n",
        "\n",
        "The output of the code will be:\n",
        "[1, 2, 4, 5]\n",
        "Explanation\n",
        "\n",
        "The remove(3) method searches for the first occurrence of the number 3 in the list and removes it.\n",
        "The print() function then displays the modified list, which no longer contains the number 3."
      ],
      "metadata": {
        "id": "vI5TcLQtdoxH"
      }
    },
    {
      "cell_type": "markdown",
      "source": [
        "# QUESTION 9 Write a code to access the second element in the list ['a', 'b', 'c', 'd']"
      ],
      "metadata": {
        "id": "hHGzQ-eTdxvG"
      }
    },
    {
      "cell_type": "markdown",
      "source": [
        "-> To access an element in a list in Python, you can use indexing, where the first element is at index 0. To get the second element, you would use index 1, which will return the desired value from the list."
      ],
      "metadata": {
        "id": "D1dbSbT5eCq9"
      }
    },
    {
      "cell_type": "code",
      "source": [
        "# Create the list\n",
        "my_list = ['a', 'b', 'c', 'd']\n",
        "\n",
        "# Access the second element\n",
        "second_element = my_list[1]\n",
        "\n",
        "# Print the second element\n",
        "print(second_element)\n"
      ],
      "metadata": {
        "colab": {
          "base_uri": "https://localhost:8080/"
        },
        "id": "YsbldqwreEYV",
        "outputId": "1bfb9db3-1673-4fb5-ac7b-0d39fd04356c"
      },
      "execution_count": null,
      "outputs": [
        {
          "output_type": "stream",
          "name": "stdout",
          "text": [
            "b\n"
          ]
        }
      ]
    },
    {
      "cell_type": "markdown",
      "source": [
        "Output\n",
        "\n",
        "The output of the code will be:\n",
        "b\n",
        "Explanation\n",
        "\n",
        "The code creates a list containing the elements 'a', 'b', 'c', and 'd'.\n",
        "By using my_list[1], it accesses the second element, which is 'b'.\n",
        "The print() function then displays the value of the second element."
      ],
      "metadata": {
        "id": "Dp4KNNi1ek_G"
      }
    },
    {
      "cell_type": "markdown",
      "source": [
        "# QUESTION 10 Write a code to reverse the list [10, 20, 30, 40, 50]."
      ],
      "metadata": {
        "id": "N6mXtNCkez-8"
      }
    },
    {
      "cell_type": "markdown",
      "source": [
        "-> To reverse a list in Python, you can use various methods such as the reverse() method, slicing, or the reversed() function. Each of these approaches allows you to obtain the list in the opposite order, providing flexibility depending on your coding style.\n",
        "\n",
        "Using the reverse() Method\n",
        "\n",
        "This method reverses the list in place, modifying the original list."
      ],
      "metadata": {
        "id": "pPa7DRZMe4sl"
      }
    },
    {
      "cell_type": "code",
      "source": [
        "# Create the list\n",
        "my_list = [10, 20, 30, 40, 50]\n",
        "\n",
        "# Use reversed() to create an iterator and convert it back to a list\n",
        "reversed_list = list(reversed(my_list))\n",
        "\n",
        "# Print the reversed list\n",
        "print(reversed_list)\n"
      ],
      "metadata": {
        "colab": {
          "base_uri": "https://localhost:8080/"
        },
        "id": "Gw1N5tsnfBh0",
        "outputId": "8e64dbb9-f175-4d99-bf81-bf731f571f0c"
      },
      "execution_count": null,
      "outputs": [
        {
          "output_type": "stream",
          "name": "stdout",
          "text": [
            "[50, 40, 30, 20, 10]\n"
          ]
        }
      ]
    },
    {
      "cell_type": "markdown",
      "source": [
        "Output\n",
        "\n",
        "The output of the code will be:\n",
        "[50, 40, 30, 20, 10]\n",
        "Using Slicing\n",
        "\n",
        "Slicing creates a new list that is a reversed version of the original list."
      ],
      "metadata": {
        "id": "X8O8WQmDfKHP"
      }
    },
    {
      "cell_type": "markdown",
      "source": [
        "# QUESTION 11 Write a code to create a tuple with the elements 100, 200, 300 and print it."
      ],
      "metadata": {
        "id": "HnA16Pa2i1rW"
      }
    },
    {
      "cell_type": "markdown",
      "source": [
        "-> To create a tuple in Python, you can define it by placing the elements inside parentheses, separated by commas. To print the tuple, you simply use the print function with the tuple as an argument"
      ],
      "metadata": {
        "id": "HUbX9FrTjTdX"
      }
    },
    {
      "cell_type": "code",
      "source": [
        "# Create a tuple with the elements 100, 200, 300\n",
        "my_tuple = (100, 200, 300)\n",
        "\n",
        "# Print the tuple\n",
        "print(my_tuple)\n"
      ],
      "metadata": {
        "colab": {
          "base_uri": "https://localhost:8080/"
        },
        "id": "J2y_MjyIjalD",
        "outputId": "67b8eb56-3e5d-4537-cd00-86b14d41ba51"
      },
      "execution_count": 32,
      "outputs": [
        {
          "output_type": "stream",
          "name": "stdout",
          "text": [
            "(100, 200, 300)\n"
          ]
        }
      ]
    },
    {
      "cell_type": "markdown",
      "source": [
        "Output:\n",
        "\n",
        "(100, 200, 300)"
      ],
      "metadata": {
        "id": "SRbPyqSTkCWw"
      }
    },
    {
      "cell_type": "markdown",
      "source": [
        "# QUESTION 12 Write a code to access the second-to-last element of the tuple ('red', 'green', 'blue', 'yellow')."
      ],
      "metadata": {
        "id": "MrmuBE1AjptF"
      }
    },
    {
      "cell_type": "markdown",
      "source": [
        "-> To access the second-to-last element of a tuple in Python, you can use negative indexing. The index -2 refers to the second-to-last item in the tuple, allowing you to retrieve it directly."
      ],
      "metadata": {
        "id": "HMZCkCXUjwem"
      }
    },
    {
      "cell_type": "code",
      "source": [
        "# Define the tuple\n",
        "colors = ('red', 'green', 'blue', 'yellow')\n",
        "\n",
        "# Access the second-to-last element using negative indexing\n",
        "second_to_last = colors[-2]\n",
        "\n",
        "# Print the second-to-last element\n",
        "print(second_to_last)\n"
      ],
      "metadata": {
        "colab": {
          "base_uri": "https://localhost:8080/"
        },
        "id": "3mPoy1tGj4Se",
        "outputId": "0c05256a-d630-4174-c1e3-85ce312b35ab"
      },
      "execution_count": 33,
      "outputs": [
        {
          "output_type": "stream",
          "name": "stdout",
          "text": [
            "blue\n"
          ]
        }
      ]
    },
    {
      "cell_type": "markdown",
      "source": [
        "Output:\n",
        "\n",
        "blue"
      ],
      "metadata": {
        "id": "XZsPP9oVj7YO"
      }
    },
    {
      "cell_type": "markdown",
      "source": [
        "# QUESTION 13 Write a code to find the minimum number in the tuple (10, 20, 5, 15)."
      ],
      "metadata": {
        "id": "r19dciaBkOCS"
      }
    },
    {
      "cell_type": "markdown",
      "source": [
        "-> To find the minimum number in a tuple in Python, you can utilize the built-in min() function, which efficiently identifies the smallest element within the tuple. This function is straightforward and works seamlessly with tuples."
      ],
      "metadata": {
        "id": "IALVlfS8kS_-"
      }
    },
    {
      "cell_type": "code",
      "source": [
        "# Define the tuple\n",
        "numbers = (10, 20, 5, 15)\n",
        "\n",
        "# Find the minimum number using the min() function\n",
        "minimum_number = min(numbers)\n",
        "\n",
        "# Print the minimum number\n",
        "print(minimum_number)\n"
      ],
      "metadata": {
        "colab": {
          "base_uri": "https://localhost:8080/"
        },
        "id": "7J0fumWMkbY-",
        "outputId": "84af1d6b-7da4-4a92-e331-38575f655746"
      },
      "execution_count": 34,
      "outputs": [
        {
          "output_type": "stream",
          "name": "stdout",
          "text": [
            "5\n"
          ]
        }
      ]
    },
    {
      "cell_type": "markdown",
      "source": [
        "Output :\n",
        "\n",
        "5"
      ],
      "metadata": {
        "id": "FdsimQ1Pkgyf"
      }
    },
    {
      "cell_type": "markdown",
      "source": [
        "# QUESTION 14 Write a code to find the index of the element \"cat\" in the tuple ('dog', 'cat', 'rabbit')."
      ],
      "metadata": {
        "id": "MofD12jykmK_"
      }
    },
    {
      "cell_type": "markdown",
      "source": [
        "-> To find the index of an element in a tuple, you can use the index() method. This method returns the first index at which the specified value is found. Here's how you can find the index of the element \"cat\" in the given tuple:"
      ],
      "metadata": {
        "id": "LSaKB2WKktvJ"
      }
    },
    {
      "cell_type": "code",
      "source": [
        "# Define the tuple\n",
        "animals = ('dog', 'cat', 'rabbit')\n",
        "\n",
        "# Find the index of the element \"cat\"\n",
        "index_of_cat = animals.index('cat')\n",
        "\n",
        "# Print the index\n",
        "print(index_of_cat)\n"
      ],
      "metadata": {
        "colab": {
          "base_uri": "https://localhost:8080/"
        },
        "id": "TxXyMAFAlC2G",
        "outputId": "a2a09eec-bd13-461a-f71f-992d34bee0ec"
      },
      "execution_count": 35,
      "outputs": [
        {
          "output_type": "stream",
          "name": "stdout",
          "text": [
            "1\n"
          ]
        }
      ]
    },
    {
      "cell_type": "markdown",
      "source": [
        "This code will output 1, as \"cat\" is located at index 1 in the tuple."
      ],
      "metadata": {
        "id": "4iM40CF_lKFX"
      }
    },
    {
      "cell_type": "markdown",
      "source": [
        "# QUESTION 15 Write a code to create a tuple containing three different fruits and check if \"kiwi\" is in it."
      ],
      "metadata": {
        "id": "g098lSk_lOPm"
      }
    },
    {
      "cell_type": "markdown",
      "source": [
        "-> To create a tuple containing three different fruits and check if \"kiwi\" is in that tuple, you can use the in keyword. Here's how you can do it:"
      ],
      "metadata": {
        "id": "FiYJcLJblT_O"
      }
    },
    {
      "cell_type": "code",
      "source": [
        "# Create a tuple with three different fruits\n",
        "fruits = ('apple', 'banana', 'orange')\n",
        "\n",
        "# Check if \"kiwi\" is in the tuple\n",
        "is_kiwi_in_tuple = 'kiwi' in fruits\n",
        "\n",
        "# Print the result\n",
        "print(is_kiwi_in_tuple)  # This will print False since \"kiwi\" is not in the tuple\n"
      ],
      "metadata": {
        "colab": {
          "base_uri": "https://localhost:8080/"
        },
        "id": "sLIYmRhdlcyu",
        "outputId": "d7200150-6089-4908-b3ac-0d3e4944294b"
      },
      "execution_count": 36,
      "outputs": [
        {
          "output_type": "stream",
          "name": "stdout",
          "text": [
            "False\n"
          ]
        }
      ]
    },
    {
      "cell_type": "markdown",
      "source": [
        "This code will output 'False' because \"kiwi\" is not one of the fruits in the tuple. If you want to check for a fruit that is in the tuple, you can replace \"kiwi\" with one of the fruits in the tuple."
      ],
      "metadata": {
        "id": "Et_d1wYAlgIe"
      }
    },
    {
      "cell_type": "markdown",
      "source": [
        "# QUESTION 16 Write a code to create a set with the elements 'a', 'b', 'c' and print it."
      ],
      "metadata": {
        "id": "if-hmPRqlpRO"
      }
    },
    {
      "cell_type": "markdown",
      "source": [
        "-> To create a set in Python, you can use curly braces {} or the set() function. Here's how you can create a set with the elements 'a', 'b', and 'c', and then print it:"
      ],
      "metadata": {
        "id": "pGXhlTqUlwwF"
      }
    },
    {
      "cell_type": "code",
      "source": [
        "# Create a set with the elements 'a', 'b', 'c'\n",
        "my_set = {'a', 'b', 'c'}\n",
        "\n",
        "# Print the set\n",
        "print(my_set)\n"
      ],
      "metadata": {
        "colab": {
          "base_uri": "https://localhost:8080/"
        },
        "id": "MKf-JcsbndAN",
        "outputId": "3a3a84ce-6fce-4cc0-8053-ec849882ff9a"
      },
      "execution_count": 43,
      "outputs": [
        {
          "output_type": "stream",
          "name": "stdout",
          "text": [
            "{'a', 'b', 'c'}\n"
          ]
        }
      ]
    },
    {
      "cell_type": "markdown",
      "source": [
        "Note that the order of elements in a set is not guaranteed, as sets are unordered collections."
      ],
      "metadata": {
        "id": "PYMGSVMTnxy-"
      }
    },
    {
      "cell_type": "markdown",
      "source": [
        "# QUESTION 17 Write a code to clear all elements from the set {1, 2, 3, 4, 5}."
      ],
      "metadata": {
        "id": "QyC5H_fnoAmV"
      }
    },
    {
      "cell_type": "markdown",
      "source": [
        "-> To clear all elements from a set in Python, you can use the clear() method. This method removes all items from the set, leaving it empty. Here’s how you can do it:\n",
        "\n",
        "\n",
        "\n"
      ],
      "metadata": {
        "id": "NJWrVRF4oGr_"
      }
    },
    {
      "cell_type": "markdown",
      "source": [
        "\n",
        "After executing this code, the output will be:\n",
        "\n",
        "\n"
      ],
      "metadata": {
        "id": "KCPVMYwpoZcd"
      }
    },
    {
      "cell_type": "code",
      "source": [
        "# Create a set with elements {1, 2, 3, 4, 5}\n",
        "my_set = {1, 2, 3, 4, 5}\n",
        "\n",
        "# Clear all elements from the set\n",
        "my_set.clear()\n",
        "\n",
        "# Print the set after clearing\n",
        "print(my_set)  # This will print an empty set: set()\n"
      ],
      "metadata": {
        "colab": {
          "base_uri": "https://localhost:8080/"
        },
        "id": "wdfRQ-xJo4lp",
        "outputId": "4a5ea836-343c-499e-c4a4-4cff6e2557a8"
      },
      "execution_count": 47,
      "outputs": [
        {
          "output_type": "stream",
          "name": "stdout",
          "text": [
            "set()\n"
          ]
        }
      ]
    },
    {
      "cell_type": "markdown",
      "source": [
        "# QUESTION 18 Write a code to remove the element 4 from the set {1, 2, 3, 4}."
      ],
      "metadata": {
        "id": "027Sz9tOo9nY"
      }
    },
    {
      "cell_type": "markdown",
      "source": [
        "-> To remove an element from a set in Python, you can use the remove() method or the discard() method. The remove() method will raise a KeyError if the element is not found, while discard() will not raise an error if the element is absent.\n",
        "Here’s how you can remove the element 4 from the set {1, 2, 3, 4} :"
      ],
      "metadata": {
        "id": "rpEMAHyksVUk"
      }
    },
    {
      "cell_type": "code",
      "source": [
        "# Create a set with elements {1, 2, 3, 4}\n",
        "my_set = {1, 2, 3, 4}\n",
        "\n",
        "# Remove the element 4 from the set\n",
        "my_set.discard(4)\n",
        "\n",
        "# Print the set after removal\n",
        "print(my_set)  # This will print: {1, 2, 3}\n"
      ],
      "metadata": {
        "colab": {
          "base_uri": "https://localhost:8080/"
        },
        "id": "XbCsyFqTsEgL",
        "outputId": "f92ec360-ee8b-4915-ee5a-8745a908cb53"
      },
      "execution_count": 48,
      "outputs": [
        {
          "output_type": "stream",
          "name": "stdout",
          "text": [
            "{1, 2, 3}\n"
          ]
        }
      ]
    },
    {
      "cell_type": "markdown",
      "source": [
        "# QUESTION 19  Write a code to find the union of two sets {1, 2, 3} and {3, 4, 5}.\n",
        "\n"
      ],
      "metadata": {
        "id": "d724_Ntzt0Z3"
      }
    },
    {
      "cell_type": "markdown",
      "source": [
        "-> To find the union of two sets in Python, you can use the union() method or the | operator. The union of two sets combines all unique elements from both sets. Here’s how you can do it with both methods:\n",
        "\n",
        "\n"
      ],
      "metadata": {
        "id": "bd3Uxnglt7Y0"
      }
    },
    {
      "cell_type": "code",
      "source": [
        "# Define the two sets\n",
        "set1 = {1, 2, 3}\n",
        "set2 = {3, 4, 5}\n",
        "\n",
        "# Find the union of the two sets using the | operator\n",
        "union_set = set1 | set2\n",
        "\n",
        "# Print the result\n",
        "print(union_set)  # This will print: {1, 2, 3, 4, 5}\n"
      ],
      "metadata": {
        "colab": {
          "base_uri": "https://localhost:8080/"
        },
        "id": "xMj1WuUdvB6F",
        "outputId": "171714c4-ff12-43e0-e19b-2a84623879e2"
      },
      "execution_count": 54,
      "outputs": [
        {
          "output_type": "stream",
          "name": "stdout",
          "text": [
            "{1, 2, 3, 4, 5}\n"
          ]
        }
      ]
    },
    {
      "cell_type": "markdown",
      "source": [
        "# QUESTION 20 Write a code to find the intersection of two sets {1, 2, 3} and {2, 3, 4}."
      ],
      "metadata": {
        "id": "9vqgDiJ1wynq"
      }
    },
    {
      "cell_type": "markdown",
      "source": [
        "-> This code uses the & operator to find the intersection of the two sets, which returns a new set containing only the elements that are common to both sets.\n"
      ],
      "metadata": {
        "id": "CkXKJm_Sw6GD"
      }
    },
    {
      "cell_type": "code",
      "source": [
        "set1 = {1, 2, 3}\n",
        "set2 = {2, 3, 4}\n",
        "intersection = set1 & set2\n",
        "print(intersection)"
      ],
      "metadata": {
        "colab": {
          "base_uri": "https://localhost:8080/"
        },
        "id": "FjSv1OcAxL7x",
        "outputId": "d9246ab8-359c-4094-9ced-32b7d8cbce5b"
      },
      "execution_count": 55,
      "outputs": [
        {
          "output_type": "stream",
          "name": "stdout",
          "text": [
            "{2, 3}\n"
          ]
        }
      ]
    },
    {
      "cell_type": "markdown",
      "source": [
        "Output:\n",
        "{2,3}"
      ],
      "metadata": {
        "id": "Ck4X477lxSpO"
      }
    },
    {
      "cell_type": "markdown",
      "source": [
        "# QUESTION 21 Write a code to create a dictionary with the keys \"name\", \"age\", and \"city\", and print it."
      ],
      "metadata": {
        "id": "9UZyzW5exZ0s"
      }
    },
    {
      "cell_type": "code",
      "source": [
        "person = {\n",
        "    \"name\": \"Ronak\",\n",
        "    \"age\": 23,\n",
        "    \"city\": \"Bhubaneswar\"\n",
        "}\n",
        "print(person)\n"
      ],
      "metadata": {
        "colab": {
          "base_uri": "https://localhost:8080/"
        },
        "id": "zZU0KIUNxozR",
        "outputId": "716acc59-678f-4d6c-a9a9-17975c238707"
      },
      "execution_count": 57,
      "outputs": [
        {
          "output_type": "stream",
          "name": "stdout",
          "text": [
            "{'name': 'Ronak', 'age': 23, 'city': 'Bhubaneswar'}\n"
          ]
        }
      ]
    },
    {
      "cell_type": "markdown",
      "source": [
        "Output:\n",
        "\n",
        "{'name': 'Ronak', 'age': 23, 'city': 'Bhubaneswar'}\n",
        "\n",
        "This code creates a dictionary with the specified keys and values, and then prints the dictionary.\n"
      ],
      "metadata": {
        "id": "0dEp8N2WxqhZ"
      }
    },
    {
      "cell_type": "markdown",
      "source": [
        "# QUESTION 22 Write a code to add a new key-value pair \"country\": \"USA\" to the dictionary {'name': 'John', 'age': 25}."
      ],
      "metadata": {
        "id": "EQXOdPjCx4g0"
      }
    },
    {
      "cell_type": "code",
      "source": [
        "person = {'name': 'John', 'age': 25}\n",
        "person[\"country\"] = \"USA\"\n",
        "print(person)\n"
      ],
      "metadata": {
        "colab": {
          "base_uri": "https://localhost:8080/"
        },
        "id": "X42EOQodynuL",
        "outputId": "5bcf0f1c-85ba-4baf-b12e-3d88631d17a6"
      },
      "execution_count": 58,
      "outputs": [
        {
          "output_type": "stream",
          "name": "stdout",
          "text": [
            "{'name': 'John', 'age': 25, 'country': 'USA'}\n"
          ]
        }
      ]
    },
    {
      "cell_type": "markdown",
      "source": [
        "Output:\n",
        "{'name': 'John', 'age': 25, 'country': 'USA'}\n",
        "\n",
        "This code adds a new key-value pair to the dictionary using the syntax dictionary[key] = value.\n"
      ],
      "metadata": {
        "id": "vwFrDMUly0Yz"
      }
    },
    {
      "cell_type": "markdown",
      "source": [
        "# QUESTION 23 Write a code to access the value associated with the key \"name\" in the dictionary {'name': 'Alice', 'age': 30}."
      ],
      "metadata": {
        "id": "_p9vpVFdy-0w"
      }
    },
    {
      "cell_type": "code",
      "source": [
        "# Given dictionary\n",
        "person = {'name': 'Alice', 'age': 30}\n",
        "\n",
        "# Accessing the value associated with the key \"name\"\n",
        "name_value = person['name']\n",
        "\n",
        "# Output the value\n",
        "print(name_value)\n"
      ],
      "metadata": {
        "colab": {
          "base_uri": "https://localhost:8080/"
        },
        "id": "lhJIgdnzzEnC",
        "outputId": "705e97e8-c666-4174-e783-a410d2970121"
      },
      "execution_count": 59,
      "outputs": [
        {
          "output_type": "stream",
          "name": "stdout",
          "text": [
            "Alice\n"
          ]
        }
      ]
    },
    {
      "cell_type": "markdown",
      "source": [
        "Ouyput:\n",
        "Alice"
      ],
      "metadata": {
        "id": "aa3SXfsmzN-D"
      }
    },
    {
      "cell_type": "markdown",
      "source": [
        "# QUESTION 24 Write a code to remove the key \"age\" from the dictionary {'name': 'Bob', 'age': 22, 'city': 'New York'}.\n",
        "\n"
      ],
      "metadata": {
        "id": "dypKFb8zzcND"
      }
    },
    {
      "cell_type": "code",
      "source": [
        "person = {'name': 'Bob', 'age': 22, 'city': 'New York'}\n",
        "del person[\"age\"]\n",
        "print(person)\n"
      ],
      "metadata": {
        "colab": {
          "base_uri": "https://localhost:8080/"
        },
        "id": "0Dzon7lTziw9",
        "outputId": "2862a8e0-339e-480a-b6c4-6a40f91dade1"
      },
      "execution_count": 60,
      "outputs": [
        {
          "output_type": "stream",
          "name": "stdout",
          "text": [
            "{'name': 'Bob', 'city': 'New York'}\n"
          ]
        }
      ]
    },
    {
      "cell_type": "markdown",
      "source": [
        "Output:\n",
        "{'name': 'Bob', 'city': 'New York'}\n",
        "This code uses the del statement to remove the key-value pair with the key \"age\" from the dictionary.\n"
      ],
      "metadata": {
        "id": "l6l_s6YszqNk"
      }
    },
    {
      "cell_type": "markdown",
      "source": [
        "# QUESTION 25  Write a code to check if the key \"city\" exists in the dictionary {'name': 'Alice', 'city': 'Paris'}."
      ],
      "metadata": {
        "id": "rmqC08k5z2dq"
      }
    },
    {
      "cell_type": "code",
      "source": [
        "person = {'name': 'Alice', 'city': 'Paris'}\n",
        "if \"city\" in person:\n",
        "    print(\"The key 'city' exists.\")\n",
        "else:\n",
        "    print(\"The key 'city' does not exist.\")\n"
      ],
      "metadata": {
        "colab": {
          "base_uri": "https://localhost:8080/"
        },
        "id": "GKzGwKxI0BQa",
        "outputId": "5797bd03-a408-4fab-c3c1-37198bcf8d20"
      },
      "execution_count": 61,
      "outputs": [
        {
          "output_type": "stream",
          "name": "stdout",
          "text": [
            "The key 'city' exists.\n"
          ]
        }
      ]
    },
    {
      "cell_type": "markdown",
      "source": [
        "Output:\n",
        "The key 'city' exists.\n",
        "\n",
        "This code uses the in operator to check if the key \"city\" exists in the dictionary.\n"
      ],
      "metadata": {
        "id": "tFNGz1H_0IyE"
      }
    },
    {
      "cell_type": "markdown",
      "source": [
        "# QUESTION 26 Write a code to create a list, a tuple, and a dictionary, and print them all.\n",
        "\n"
      ],
      "metadata": {
        "id": "gyR257dx0RFS"
      }
    },
    {
      "cell_type": "code",
      "source": [
        "# Creating a list\n",
        "my_list = [1, 2, 3, 4, 5]\n",
        "\n",
        "# Creating a tuple\n",
        "my_tuple = (10, 20, 30)\n",
        "\n",
        "# Creating a dictionary\n",
        "my_dict = {'name': 'Bob', 'age': 28}\n",
        "\n",
        "# Printing the list, tuple, and dictionary\n",
        "print(\"List:\", my_list)\n",
        "print(\"Tuple:\", my_tuple)\n",
        "print(\"Dictionary:\", my_dict)\n"
      ],
      "metadata": {
        "colab": {
          "base_uri": "https://localhost:8080/"
        },
        "id": "7ua92ZAU0apx",
        "outputId": "965541c5-e0dd-4ffa-961e-1f0a2a4b1bdd"
      },
      "execution_count": 62,
      "outputs": [
        {
          "output_type": "stream",
          "name": "stdout",
          "text": [
            "List: [1, 2, 3, 4, 5]\n",
            "Tuple: (10, 20, 30)\n",
            "Dictionary: {'name': 'Bob', 'age': 28}\n"
          ]
        }
      ]
    },
    {
      "cell_type": "markdown",
      "source": [
        "# QUESTION 27 Write a code to create a list of 5 random numbers between 1 and 100, sort it in ascending order, and print the\n",
        "result.(replaced)"
      ],
      "metadata": {
        "id": "Nld6ZFs90p3J"
      }
    },
    {
      "cell_type": "code",
      "source": [
        "import random\n",
        "\n",
        "# Creating a list of 5 random numbers between 1 and 100\n",
        "random_numbers = [random.randint(1, 100) for _ in range(5)]\n",
        "\n",
        "# Sorting the list in ascending order\n",
        "random_numbers.sort()\n",
        "\n",
        "# Printing the sorted list\n",
        "print(\"Sorted Random Numbers:\", random_numbers)\n"
      ],
      "metadata": {
        "colab": {
          "base_uri": "https://localhost:8080/"
        },
        "id": "xVEqtLN60wxB",
        "outputId": "90931e20-5b77-4430-9ebe-d514bdcddfe5"
      },
      "execution_count": 63,
      "outputs": [
        {
          "output_type": "stream",
          "name": "stdout",
          "text": [
            "Sorted Random Numbers: [30, 62, 62, 88, 99]\n"
          ]
        }
      ]
    },
    {
      "cell_type": "markdown",
      "source": [
        "# QUESTION 28 Write a code to create a list with strings and print the element at the third index."
      ],
      "metadata": {
        "id": "HTYY7zL-1Bsz"
      }
    },
    {
      "cell_type": "code",
      "source": [
        "# Creating a list of strings\n",
        "string_list = [\"apple\", \"banana\", \"cherry\", \"date\", \"elderberry\"]\n",
        "\n",
        "# Printing the element at the third index\n",
        "print(\"Element at index 3:\", string_list[3])\n"
      ],
      "metadata": {
        "colab": {
          "base_uri": "https://localhost:8080/"
        },
        "id": "fvggu4EY1O3A",
        "outputId": "731ebe80-4e50-4734-b7a5-95ae9627cd21"
      },
      "execution_count": 64,
      "outputs": [
        {
          "output_type": "stream",
          "name": "stdout",
          "text": [
            "Element at index 3: date\n"
          ]
        }
      ]
    },
    {
      "cell_type": "markdown",
      "source": [
        "# QUESTION 29 Write a code to combine two dictionaries into one and print the result."
      ],
      "metadata": {
        "id": "2vDkvwvQ21H6"
      }
    },
    {
      "cell_type": "code",
      "source": [
        "# Creating two dictionaries\n",
        "dict1 = {'name': 'Alice', 'age': 30}\n",
        "dict2 = {'city': 'New York', 'country': 'USA'}\n",
        "\n",
        "# Method 1: Using the update() method\n",
        "combined_dict1 = dict1.copy()  # Create a copy of dict1 to avoid modifying it\n",
        "combined_dict1.update(dict2)\n",
        "\n",
        "# Method 2: Using the unpacking operator\n",
        "combined_dict2 = {**dict1, **dict2}\n",
        "\n",
        "# Printing the results\n",
        "print(\"Combined Dictionary using update():\", combined_dict1)\n",
        "print(\"Combined Dictionary using unpacking:\", combined_dict2)\n"
      ],
      "metadata": {
        "colab": {
          "base_uri": "https://localhost:8080/"
        },
        "id": "1K2EZPkJ3Iyj",
        "outputId": "58b0aac6-bdc4-41f0-e152-c8b44afe9425"
      },
      "execution_count": 65,
      "outputs": [
        {
          "output_type": "stream",
          "name": "stdout",
          "text": [
            "Combined Dictionary using update(): {'name': 'Alice', 'age': 30, 'city': 'New York', 'country': 'USA'}\n",
            "Combined Dictionary using unpacking: {'name': 'Alice', 'age': 30, 'city': 'New York', 'country': 'USA'}\n"
          ]
        }
      ]
    },
    {
      "cell_type": "markdown",
      "source": [
        "# QUESTION 30 Write a code to convert a list of strings into a set."
      ],
      "metadata": {
        "id": "uJd72LWk3Lnv"
      }
    },
    {
      "cell_type": "code",
      "source": [
        "# Creating a list of strings\n",
        "string_list = [\"apple\", \"banana\", \"cherry\", \"apple\", \"date\"]\n",
        "\n",
        "# Converting the list to a set\n",
        "string_set = set(string_list)\n",
        "\n",
        "# Printing the resulting set\n",
        "print(\"Set of strings:\", string_set)\n"
      ],
      "metadata": {
        "colab": {
          "base_uri": "https://localhost:8080/"
        },
        "id": "FbXz_XYZ3TXY",
        "outputId": "ef6922a5-e574-4f1e-b4bd-b21fde2955dd"
      },
      "execution_count": 66,
      "outputs": [
        {
          "output_type": "stream",
          "name": "stdout",
          "text": [
            "Set of strings: {'cherry', 'date', 'apple', 'banana'}\n"
          ]
        }
      ]
    }
  ]
}